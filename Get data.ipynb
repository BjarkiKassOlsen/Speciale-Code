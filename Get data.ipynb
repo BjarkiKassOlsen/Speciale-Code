{
 "cells": [
  {
   "cell_type": "code",
   "execution_count": 5,
   "metadata": {},
   "outputs": [],
   "source": [
    "from project_imports import *\n"
   ]
  },
  {
   "cell_type": "code",
   "execution_count": 6,
   "metadata": {},
   "outputs": [
    {
     "name": "stdout",
     "output_type": "stream",
     "text": [
      "Loading library list...\n",
      "Done\n"
     ]
    }
   ],
   "source": [
    "# Log into the Wharton database\n",
    "conn = wrds.Connection(wrds_username='bjarki')"
   ]
  },
  {
   "cell_type": "code",
   "execution_count": 7,
   "metadata": {},
   "outputs": [],
   "source": [
    "# Setting start and end date for the data\n",
    "start_date = \"01/01/2020\"\n",
    "end_date = \"12/31/2022\""
   ]
  },
  {
   "cell_type": "code",
   "execution_count": 12,
   "metadata": {},
   "outputs": [],
   "source": [
    "import importlib\n",
    "import functions\n",
    "\n",
    "# Reload the module\n",
    "importlib.reload(functions)\n",
    "\n",
    "sp500 = functions.load_sp500_data(conn, start_date, end_date)\n"
   ]
  },
  {
   "cell_type": "code",
   "execution_count": 10,
   "metadata": {},
   "outputs": [],
   "source": [
    "# Reload the module\n",
    "importlib.reload(functions)\n",
    "\n",
    "ff5 = functions.load_ff5_data(conn, start_date, end_date)"
   ]
  },
  {
   "cell_type": "code",
   "execution_count": 6,
   "metadata": {},
   "outputs": [
    {
     "name": "stdout",
     "output_type": "stream",
     "text": [
      "Combined CSV file created successfully.\n"
     ]
    }
   ],
   "source": [
    "import os\n",
    "import zipfile\n",
    "from tempfile import TemporaryDirectory\n",
    "\n",
    "# Path to the ZIP file\n",
    "zip_path = \"../Data/PredictorsIndiv.zip\"\n",
    "\n",
    "# Get a unique list of PERMNOs from the CRSP data\n",
    "permno_unique = sp500.permno.unique()\n",
    "\n",
    "# Temporary directory to extract files\n",
    "with TemporaryDirectory() as temp_dir:\n",
    "    # Open the ZIP file\n",
    "    with zipfile.ZipFile(zip_path, 'r') as zip_ref:\n",
    "        # Extract all files to the temporary directory\n",
    "        zip_ref.extractall(temp_dir)\n",
    "        \n",
    "        # Get a list of CSV files in the directory (assuming all files are CSVs)\n",
    "        csv_files = [f for f in os.listdir(temp_dir) if f.endswith('.csv')]\n",
    "        \n",
    "        # Ensure we only process the first 5 CSV files\n",
    "        # csv_files = csv_files[:5]\n",
    "        \n",
    "        # Initialize an empty DataFrame for the combined data\n",
    "        combined_df = None\n",
    "        \n",
    "        # Iterate over the CSV files\n",
    "        for csv_file in csv_files:\n",
    "            df = pd.read_csv(os.path.join(temp_dir, csv_file))\n",
    "\n",
    "            # Filter the dataframe to include only rows with 'permno' in permno_unique\n",
    "            df = df[df['permno'].isin(permno_unique)]\n",
    "            \n",
    "            # If combined_df is not yet initialized, use the first dataframe\n",
    "            if combined_df is None:\n",
    "                combined_df = df\n",
    "            else:\n",
    "                # Merge the current dataframe with the combined dataframe on 'permno' and 'yyyymm'\n",
    "                combined_df = pd.merge(combined_df, df, on=['permno', 'yyyymm'], how='outer')\n",
    "        \n",
    "        # Optional: Save the combined dataframe to a new CSV file\n",
    "        # combined_df.to_csv(\"../Data/combined_csv.csv\", index=False)\n",
    "        \n",
    "        print(\"Combined CSV file created successfully.\")"
   ]
  },
  {
   "cell_type": "code",
   "execution_count": 10,
   "metadata": {},
   "outputs": [],
   "source": [
    "one_comp = combined_df[combined_df['permno'] == permno_unique[0]]"
   ]
  },
  {
   "cell_type": "code",
   "execution_count": 60,
   "metadata": {},
   "outputs": [
    {
     "data": {
      "text/html": [
       "<div>\n",
       "<style scoped>\n",
       "    .dataframe tbody tr th:only-of-type {\n",
       "        vertical-align: middle;\n",
       "    }\n",
       "\n",
       "    .dataframe tbody tr th {\n",
       "        vertical-align: top;\n",
       "    }\n",
       "\n",
       "    .dataframe thead th {\n",
       "        text-align: right;\n",
       "    }\n",
       "</style>\n",
       "<table border=\"1\" class=\"dataframe\">\n",
       "  <thead>\n",
       "    <tr style=\"text-align: right;\">\n",
       "      <th></th>\n",
       "      <th>permno</th>\n",
       "      <th>start</th>\n",
       "      <th>ending</th>\n",
       "      <th>date</th>\n",
       "      <th>prc</th>\n",
       "      <th>openprc</th>\n",
       "      <th>ret</th>\n",
       "      <th>askhi</th>\n",
       "      <th>bidlo</th>\n",
       "      <th>vol</th>\n",
       "      <th>shrout</th>\n",
       "      <th>comnam</th>\n",
       "      <th>ncusip</th>\n",
       "      <th>namedt</th>\n",
       "      <th>nameendt</th>\n",
       "      <th>shrcd</th>\n",
       "      <th>exchcd</th>\n",
       "      <th>hsiccd</th>\n",
       "      <th>ticker</th>\n",
       "    </tr>\n",
       "  </thead>\n",
       "  <tbody>\n",
       "    <tr>\n",
       "      <th>3002</th>\n",
       "      <td>59328</td>\n",
       "      <td>1976-12-09</td>\n",
       "      <td>2023-12-29</td>\n",
       "      <td>2020-01-02</td>\n",
       "      <td>60.84</td>\n",
       "      <td>60.24</td>\n",
       "      <td>0.016541</td>\n",
       "      <td>60.970</td>\n",
       "      <td>60.22</td>\n",
       "      <td>17685088.0</td>\n",
       "      <td>4290000.0</td>\n",
       "      <td>INTEL CORP</td>\n",
       "      <td>45814010</td>\n",
       "      <td>2004-06-10</td>\n",
       "      <td>2023-12-29</td>\n",
       "      <td>11</td>\n",
       "      <td>3</td>\n",
       "      <td>3679</td>\n",
       "      <td>INTC</td>\n",
       "    </tr>\n",
       "    <tr>\n",
       "      <th>6458</th>\n",
       "      <td>59328</td>\n",
       "      <td>1976-12-09</td>\n",
       "      <td>2023-12-29</td>\n",
       "      <td>2020-01-03</td>\n",
       "      <td>60.10</td>\n",
       "      <td>59.81</td>\n",
       "      <td>-0.012163</td>\n",
       "      <td>60.700</td>\n",
       "      <td>59.81</td>\n",
       "      <td>15280638.0</td>\n",
       "      <td>4290000.0</td>\n",
       "      <td>INTEL CORP</td>\n",
       "      <td>45814010</td>\n",
       "      <td>2004-06-10</td>\n",
       "      <td>2023-12-29</td>\n",
       "      <td>11</td>\n",
       "      <td>3</td>\n",
       "      <td>3679</td>\n",
       "      <td>INTC</td>\n",
       "    </tr>\n",
       "    <tr>\n",
       "      <th>10881</th>\n",
       "      <td>59328</td>\n",
       "      <td>1976-12-09</td>\n",
       "      <td>2023-12-29</td>\n",
       "      <td>2020-01-06</td>\n",
       "      <td>59.93</td>\n",
       "      <td>59.59</td>\n",
       "      <td>-0.002829</td>\n",
       "      <td>60.195</td>\n",
       "      <td>59.33</td>\n",
       "      <td>17739057.0</td>\n",
       "      <td>4290000.0</td>\n",
       "      <td>INTEL CORP</td>\n",
       "      <td>45814010</td>\n",
       "      <td>2004-06-10</td>\n",
       "      <td>2023-12-29</td>\n",
       "      <td>11</td>\n",
       "      <td>3</td>\n",
       "      <td>3679</td>\n",
       "      <td>INTC</td>\n",
       "    </tr>\n",
       "    <tr>\n",
       "      <th>11238</th>\n",
       "      <td>59328</td>\n",
       "      <td>1976-12-09</td>\n",
       "      <td>2023-12-29</td>\n",
       "      <td>2020-01-07</td>\n",
       "      <td>58.93</td>\n",
       "      <td>59.78</td>\n",
       "      <td>-0.016686</td>\n",
       "      <td>59.800</td>\n",
       "      <td>58.89</td>\n",
       "      <td>21935685.0</td>\n",
       "      <td>4290000.0</td>\n",
       "      <td>INTEL CORP</td>\n",
       "      <td>45814010</td>\n",
       "      <td>2004-06-10</td>\n",
       "      <td>2023-12-29</td>\n",
       "      <td>11</td>\n",
       "      <td>3</td>\n",
       "      <td>3679</td>\n",
       "      <td>INTC</td>\n",
       "    </tr>\n",
       "    <tr>\n",
       "      <th>15999</th>\n",
       "      <td>59328</td>\n",
       "      <td>1976-12-09</td>\n",
       "      <td>2023-12-29</td>\n",
       "      <td>2020-01-08</td>\n",
       "      <td>58.97</td>\n",
       "      <td>58.89</td>\n",
       "      <td>0.000679</td>\n",
       "      <td>59.320</td>\n",
       "      <td>58.52</td>\n",
       "      <td>23090282.0</td>\n",
       "      <td>4290000.0</td>\n",
       "      <td>INTEL CORP</td>\n",
       "      <td>45814010</td>\n",
       "      <td>2004-06-10</td>\n",
       "      <td>2023-12-29</td>\n",
       "      <td>11</td>\n",
       "      <td>3</td>\n",
       "      <td>3679</td>\n",
       "      <td>INTC</td>\n",
       "    </tr>\n",
       "  </tbody>\n",
       "</table>\n",
       "</div>"
      ],
      "text/plain": [
       "       permno      start     ending       date    prc  openprc       ret  \\\n",
       "3002    59328 1976-12-09 2023-12-29 2020-01-02  60.84    60.24  0.016541   \n",
       "6458    59328 1976-12-09 2023-12-29 2020-01-03  60.10    59.81 -0.012163   \n",
       "10881   59328 1976-12-09 2023-12-29 2020-01-06  59.93    59.59 -0.002829   \n",
       "11238   59328 1976-12-09 2023-12-29 2020-01-07  58.93    59.78 -0.016686   \n",
       "15999   59328 1976-12-09 2023-12-29 2020-01-08  58.97    58.89  0.000679   \n",
       "\n",
       "        askhi  bidlo         vol     shrout      comnam    ncusip     namedt  \\\n",
       "3002   60.970  60.22  17685088.0  4290000.0  INTEL CORP  45814010 2004-06-10   \n",
       "6458   60.700  59.81  15280638.0  4290000.0  INTEL CORP  45814010 2004-06-10   \n",
       "10881  60.195  59.33  17739057.0  4290000.0  INTEL CORP  45814010 2004-06-10   \n",
       "11238  59.800  58.89  21935685.0  4290000.0  INTEL CORP  45814010 2004-06-10   \n",
       "15999  59.320  58.52  23090282.0  4290000.0  INTEL CORP  45814010 2004-06-10   \n",
       "\n",
       "        nameendt  shrcd  exchcd  hsiccd ticker  \n",
       "3002  2023-12-29     11       3    3679   INTC  \n",
       "6458  2023-12-29     11       3    3679   INTC  \n",
       "10881 2023-12-29     11       3    3679   INTC  \n",
       "11238 2023-12-29     11       3    3679   INTC  \n",
       "15999 2023-12-29     11       3    3679   INTC  "
      ]
     },
     "execution_count": 60,
     "metadata": {},
     "output_type": "execute_result"
    }
   ],
   "source": [
    "sp500_full[sp500_full['permno'] == permno_unique[36]].head()"
   ]
  },
  {
   "cell_type": "markdown",
   "metadata": {},
   "source": []
  },
  {
   "cell_type": "markdown",
   "metadata": {},
   "source": [
    "# Testing generating graphs, using the Apple stock first"
   ]
  },
  {
   "cell_type": "code",
   "execution_count": 13,
   "metadata": {},
   "outputs": [],
   "source": [
    "dfApple = sp500[sp500.permno == 14593]\n",
    "\n",
    "# Clear memory\n",
    "sp500 = []\n",
    "# sp500_full = []\n",
    "# mse = []"
   ]
  },
  {
   "cell_type": "code",
   "execution_count": 491,
   "metadata": {},
   "outputs": [],
   "source": [
    "# Only keep the columns we need\n",
    "df = dfApple[['date', 'prc', 'openprc', 'askhi', 'bidlo', 'vol', 'ret5', 'ret20', 'ret60']].copy()\n",
    "\n",
    "# Keep the permno\n",
    "permno = dfApple['permno'].unique()\n",
    "\n",
    "# Rename columns\n",
    "df.columns = ['Date', 'Close', 'Open', 'High', 'Low', 'Volume', 'Ret5', 'Ret20', 'Ret60']\n",
    "\n",
    "# Add 20 day moving average\n",
    "indicator = {'MA': 20}\n",
    "\n",
    "# Define number of days to look back at, as input\n",
    "lookback = 60\n",
    "\n",
    "# # Define the image size, as each day needs to be represented by 3 pixels\n",
    "# if lookback == 5:\n",
    "#     image_size = (32, 15)\n",
    "# elif lookback == 20:\n",
    "#     image_size = (64, 60)\n",
    "# elif lookback == 60:\n",
    "#     image_size = (96, 180)\n",
    "\n",
    "# Whether to show volume in images\n",
    "show_volume = True\n",
    "\n",
    "# Define the mode that we are in\n",
    "mode = 'train'"
   ]
  },
  {
   "cell_type": "code",
   "execution_count": 500,
   "metadata": {},
   "outputs": [],
   "source": [
    "import generate_graphs\n",
    "\n",
    "# Reload the module\n",
    "importlib.reload(generate_graphs)\n",
    "\n",
    "# Generate the images\n",
    "image_set = generate_graphs.image_generator(df, image_size, lookback, indicator, show_volume, mode)"
   ]
  },
  {
   "cell_type": "code",
   "execution_count": 502,
   "metadata": {},
   "outputs": [
    {
     "data": {
      "text/plain": [
       "[]"
      ]
     },
     "execution_count": 502,
     "metadata": {},
     "output_type": "execute_result"
    }
   ],
   "source": [
    "# Print invalid dates\n",
    "image_set[2]"
   ]
  },
  {
   "cell_type": "code",
   "execution_count": 503,
   "metadata": {},
   "outputs": [
    {
     "data": {
      "image/png": "[encoded data removed]",
      "text/plain": [
       "<Figure size 640x480 with 1 Axes>"
      ]
     },
     "metadata": {},
     "output_type": "display_data"
    }
   ],
   "source": [
    "generate_graphs.show_single_graph(image_set[0][120])"
   ]
  },
  {
   "cell_type": "code",
   "execution_count": 455,
   "metadata": {},
   "outputs": [],
   "source": [
    "# from zipfile import ZipFile\n",
    "\n",
    "# with ZipFile('C:/Users/bjark/Downloads/tabularDf.zip', 'r') as z:\n",
    "#     f =  z.open('tabularDf.csv')\n",
    "#     tabularDf = pd.read_csv(f, index_col=0)\n",
    "#     f.close()\n",
    "#     z.close()"
   ]
  },
  {
   "cell_type": "code",
   "execution_count": 15,
   "metadata": {},
   "outputs": [],
   "source": [
    "# Only keep the columns we need\n",
    "df = dfApple[['date', 'prc', 'openprc', 'askhi', 'bidlo', 'vol', 'ret5', 'ret20', 'ret60']].copy()\n",
    "\n",
    "# Keep the permno\n",
    "permno = dfApple['permno'].unique()\n",
    "\n",
    "# Rename columns\n",
    "df.columns = ['Date', 'Close', 'Open', 'High', 'Low', 'Volume', 'Ret5', 'Ret20', 'Ret60']"
   ]
  },
  {
   "cell_type": "code",
   "execution_count": 36,
   "metadata": {},
   "outputs": [],
   "source": [
    "import generate_graphs\n",
    "\n",
    "# Reload the module\n",
    "importlib.reload(generate_graphs)\n",
    "\n",
    "# (self, df, win_size, mode, label, indicator = [], show_volume=False, parallel_num=-1)\n",
    "\n",
    "# Get out the dataset\n",
    "dataset = generate_graphs.GraphDataset(df = df, win_size=5, mode='train', label='Ret5', indicator = [{'MA': 20}], show_volume=True, parallel_num=-1)"
   ]
  },
  {
   "cell_type": "code",
   "execution_count": 37,
   "metadata": {},
   "outputs": [
    {
     "name": "stderr",
     "output_type": "stream",
     "text": [
      "Generating Images: 100%|██████████| 1/1 [00:00<00:00, 194.09it/s]\n"
     ]
    }
   ],
   "source": [
    "# Generate the image set\n",
    "image_set = dataset.generate_images()"
   ]
  },
  {
   "cell_type": "code",
   "execution_count": 42,
   "metadata": {},
   "outputs": [
    {
     "data": {
      "image/png": "[encoded data removed]",
      "text/plain": [
       "<Figure size 640x480 with 1 Axes>"
      ]
     },
     "metadata": {},
     "output_type": "display_data"
    }
   ],
   "source": [
    "generate_graphs.show_single_graph(image_set[0][0][2])"
   ]
  },
  {
   "cell_type": "code",
   "execution_count": 1,
   "metadata": {},
   "outputs": [],
   "source": [
    "import matplotlib.pyplot as plt\n",
    "import numpy as np\n",
    "\n",
    "# Simulate an image matrix (32x15)\n",
    "image_matrix = np.random.randint(0, 256, (32, 15), dtype=np.uint8)\n",
    "\n",
    "# Save the matrix as a PNG file\n",
    "plt.imsave('image_matrix.png', image_matrix, cmap='gray', format='png')\n"
   ]
  },
  {
   "cell_type": "code",
   "execution_count": 2,
   "metadata": {},
   "outputs": [
    {
     "name": "stdout",
     "output_type": "stream",
     "text": [
      "Original matrix:\n",
      "[[ 63  91 120 131 206 143 178  73 244 251 214 162  84 189 191]\n",
      " [126 238 114  32  60  93  67 246 172 160 105 137 240 180  42]\n",
      " [109 235 233  73  29  93 166 132  93  74   8  93 123 255  57]\n",
      " [252 106 155 252   8 181  26  52 143 167 164  69 220 212 154]\n",
      " [194 240 101 188 191 126 208  97 178 152 171 243 146 208  64]\n",
      " [181 165   2  89   2  31 186 184 128 130 209 235  95 118  75]\n",
      " [234 153 223  66 201 246 150  45 141 159  54  44  93  77 126]\n",
      " [112  17 144 204  64 156  79 209 157 109 180 164 224  83  32]\n",
      " [237 103 235 118 182 249  93 141 170 198 127  17 195 191 117]\n",
      " [209  70 119 221  16  81 131  15 198 192 169 194 200 240 211]\n",
      " [196 182 241  98  18 172 136  96 149 132  28 129 102 229 128]\n",
      " [193   8 103 210 103  53 175 227  96 206 185 255 119 250 126]\n",
      " [239 160 144 232 167 207 150 135  36 141 185 124 121 173 220]\n",
      " [ 39 114   7 227   1 131 240 104  46 214 183 126 240 228  48]\n",
      " [155 107  92 161  76 139  51 203 205 254 213 243  65 194 120]\n",
      " [ 57 117 118  97  32 121 130   1  44 152 176 198 227  24 192]\n",
      " [117  89 202 147  81 109 230 108 137  68  90 229 206 104 202]\n",
      " [101 198 114  81  89 255 109 226  66 149  44  81  36  51 127]\n",
      " [105 240 248 177 119 202 107 230 230 116 187  85  61 162 199]\n",
      " [247 177 119 221 133  31 149  89  50 177  31  58 175 162  50]\n",
      " [  8 215 156  15 135  62 161 240  18 114 231 184 109 109 166]\n",
      " [ 72 199  62 147  13  76 243  89  16 245 181  17 237 191 228]\n",
      " [ 70 215  98  40  48 196  82 234 209 234 200  65 197 121  12]\n",
      " [178  75   8 181 114 156  54 248 169  94  99 208 235  74 226]\n",
      " [114  68 144 251  43 191  46 241 139 185 172 204 123 221 104]\n",
      " [ 82 222 222 164 251 241  32 208 208  92  69   2 247  84  73]\n",
      " [201  51 132  34 135  70 164  53 210 177 113 195  89  45 162]\n",
      " [101 146 114  85  49 214  13  96  85  82  49 119  28 147 222]\n",
      " [ 47 113 140  32 223 162 231 129 124 135 168 191  56  55 179]\n",
      " [241 149 150 200 151 190 103 196 189 236  50 181 162 195 180]\n",
      " [ 10 140  11  84 133 190   3 143 219   9  38  97 229  53  97]\n",
      " [234   3 241 244  59 189 113 148 155 105  55  79 194  45 236]]\n",
      "\n",
      "Loaded matrix:\n",
      "[[ 62  89 119 131 206 143 178  72 243 251 214 162  83 189 191]\n",
      " [125 238 113  31  59  92  65 246 172 160 104 137 240 179  40]\n",
      " [108 235 233  72  28  92 166 131  92  73   7  92 121 255  56]\n",
      " [252 105 155 252   7 181  25  51 143 167 163  68 220 211 154]\n",
      " [194 240 100 188 191 125 208  96 178 152 171 243 146 208  63]\n",
      " [181 165   1  88   1  30 186 184 128 130 209 235  94 117  73]\n",
      " [234 153 223  65 201 246 150  44 141 159  52  43  92  76 125]\n",
      " [111  16 144 204  63 156  78 209 157 108 179 163 224  81  31]\n",
      " [237 102 235 117 182 249  92 141 170 198 126  16 195 191 116]\n",
      " [209  69 118 221  15  80 131  14 198 192 169 194 200 240 211]\n",
      " [195 182 241  97  17 172 136  95 149 131  27 129 101 229 128]\n",
      " [193   7 102 210 102  52 175 227  95 206 185 255 118 250 125]\n",
      " [239 160 144 232 167 207 150 135  35 141 185 123 120 173 220]\n",
      " [ 38 113   6 227   0 131 240 103  44 214 183 125 240 227  47]\n",
      " [155 105  91 161  75 139  50 203 205 254 213 243  64 194 119]\n",
      " [ 56 116 117  96  31 120 130   0  43 152 176 198 227  23 192]\n",
      " [116  88 202 147  80 108 230 107 137  67  89 229 206 103 202]\n",
      " [100 198 113  80  88 255 108 226  65 149  43  80  35  50 126]\n",
      " [104 240 248 177 118 202 105 230 230 115 187  84  60 162 199]\n",
      " [247 177 118 221 133  30 149  88  48 177  30  56 175 162  48]\n",
      " [  7 215 156  14 135  60 161 240  17 113 231 184 108 108 166]\n",
      " [ 71 199  60 147  12  75 243  88  15 245 181  16 237 191 227]\n",
      " [ 69 215  97  39  47 195  81 234 209 234 200  64 197 120  11]\n",
      " [178  73   7 181 113 156  52 248 169  93  97 208 235  73 226]\n",
      " [113  67 144 251  42 191  44 241 139 185 172 204 121 221 103]\n",
      " [ 81 222 222 163 251 241  31 208 208  91  68   1 247  83  72]\n",
      " [201  50 131  32 135  69 163  52 210 177 112 195  88  44 162]\n",
      " [100 146 113  84  48 214  12  95  84  81  48 118  27 147 222]\n",
      " [ 46 112 140  31 223 162 231 129 123 135 168 191  55  54 179]\n",
      " [241 149 150 200 151 190 102 195 189 236  48 181 162 195 179]\n",
      " [  9 140  10  83 133 190   2 143 219   8  36  96 229  52  96]\n",
      " [234   2 241 243  58 189 112 147 155 104  54  78 194  44 236]]\n",
      "\n",
      "Difference: 260\n"
     ]
    }
   ],
   "source": [
    "from PIL import Image\n",
    "import numpy as np\n",
    "\n",
    "# Load the image back\n",
    "loaded_image = Image.open('image_matrix.png').convert('L')\n",
    "\n",
    "# Convert to a NumPy array\n",
    "loaded_image_matrix = np.array(loaded_image)\n",
    "\n",
    "# Verify precision\n",
    "print(\"Original matrix:\")\n",
    "print(image_matrix)\n",
    "print(\"\\nLoaded matrix:\")\n",
    "print(loaded_image_matrix)\n",
    "print(\"\\nDifference:\", np.sum(np.abs(image_matrix - loaded_image_matrix)))\n"
   ]
  },
  {
   "cell_type": "code",
   "execution_count": 3,
   "metadata": {},
   "outputs": [
    {
     "name": "stdout",
     "output_type": "stream",
     "text": [
      "Difference: 0\n"
     ]
    }
   ],
   "source": [
    "from PIL import Image\n",
    "import numpy as np\n",
    "\n",
    "# Simulate an image matrix (32x15)\n",
    "image_matrix = np.random.randint(0, 256, (32, 15), dtype=np.uint8)\n",
    "\n",
    "# Convert the matrix to a PIL image\n",
    "image = Image.fromarray(image_matrix)\n",
    "\n",
    "# Save the image as a PNG file\n",
    "image.save('image_matrix.png', format='png')\n",
    "\n",
    "# Load the image back\n",
    "loaded_image = Image.open('image_matrix.png')\n",
    "\n",
    "# Convert to a NumPy array\n",
    "loaded_image_matrix = np.array(loaded_image)\n",
    "\n",
    "# Verify precision\n",
    "print(\"Difference:\", np.sum(np.abs(image_matrix - loaded_image_matrix)))\n"
   ]
  },
  {
   "cell_type": "code",
   "execution_count": 4,
   "metadata": {},
   "outputs": [],
   "source": [
    "from PIL import Image\n",
    "import numpy as np\n",
    "\n",
    "# Original image matrix (32x15)\n",
    "image_matrix = np.random.randint(0, 256, (32, 15), dtype=np.uint8)\n",
    "\n",
    "# Convert the matrix to a PIL image\n",
    "original_image = Image.fromarray(image_matrix)\n",
    "\n",
    "# Save the original image\n",
    "original_image.save('original_image.png', format='png')\n",
    "\n",
    "# Scale up for visualization\n",
    "scale_factor = 20\n",
    "larger_image = original_image.resize((original_image.width * scale_factor, original_image.height * scale_factor), Image.NEAREST)\n",
    "\n",
    "# Save the larger image for visualization\n",
    "larger_image.save('larger_image.png', format='png')\n"
   ]
  },
  {
   "cell_type": "code",
   "execution_count": 5,
   "metadata": {},
   "outputs": [
    {
     "name": "stdout",
     "output_type": "stream",
     "text": [
      "Difference: 0\n"
     ]
    }
   ],
   "source": [
    "from PIL import Image\n",
    "import numpy as np\n",
    "\n",
    "# Load the original image back\n",
    "loaded_original_image = Image.open('original_image.png').convert('L')\n",
    "\n",
    "# Convert to a NumPy array\n",
    "loaded_original_matrix = np.array(loaded_original_image)\n",
    "\n",
    "# Assuming `image_matrix` is your original matrix\n",
    "print(\"Difference:\", np.sum(np.abs(image_matrix - loaded_original_matrix)))\n"
   ]
  }
 ],
 "metadata": {
  "kernelspec": {
   "display_name": "Python 3",
   "language": "python",
   "name": "python3"
  },
  "language_info": {
   "codemirror_mode": {
    "name": "ipython",
    "version": 3
   },
   "file_extension": ".py",
   "mimetype": "text/x-python",
   "name": "python",
   "nbconvert_exporter": "python",
   "pygments_lexer": "ipython3",
   "version": "3.11.5"
  }
 },
 "nbformat": 4,
 "nbformat_minor": 2
}
